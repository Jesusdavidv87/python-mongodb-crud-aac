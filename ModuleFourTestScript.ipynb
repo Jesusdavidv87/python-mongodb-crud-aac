{
 "cells": [
  {
   "cell_type": "code",
   "execution_count": 6,
   "id": "4179f949-e97e-4ecc-8b61-94f11ba5834a",
   "metadata": {},
   "outputs": [],
   "source": [
    "# Python Testing Script\n",
    "\n",
    "#TODO: import for your CRUD module\n",
    "\n",
    "#TODO: Instantiate an instance of your class\n",
    "\n",
    "#TODO: Use your create function create a new record in the aac database\n",
    "\n",
    "#TODO: Use your read funtion to return records from the aac database"
   ]
  },
  {
   "cell_type": "code",
   "execution_count": 7,
   "id": "8b894bdf-1805-4dd6-8eb2-e71ec197900e",
   "metadata": {
    "tags": []
   },
   "outputs": [],
   "source": [
    "from pprint import pprint\n",
    "from CRUD_Python_Module import AnimalShelter\n"
   ]
  },
  {
   "cell_type": "code",
   "execution_count": 8,
   "id": "de5df3cf-797e-485c-be75-645bb4c0f5a1",
   "metadata": {
    "tags": []
   },
   "outputs": [
    {
     "name": "stdout",
     "output_type": "stream",
     "text": [
      "Connected.\n"
     ]
    }
   ],
   "source": [
    "shelter = AnimalShelter(\n",
    "    username=\"aacuser\",\n",
    "    password=\"aacPassJV01\",   \n",
    "    host=\"localhost\",\n",
    "    port=27017,\n",
    "    db_name=\"aac\",\n",
    "    collection_name=\"animals\",\n",
    "    auth_db=\"admin\",          \n",
    ")\n",
    "print(\"Connected.\")\n"
   ]
  },
  {
   "cell_type": "code",
   "execution_count": 9,
   "id": "b3fa421a-c607-4fc2-b381-6109ab594bd8",
   "metadata": {
    "tags": []
   },
   "outputs": [
    {
     "name": "stdout",
     "output_type": "stream",
     "text": [
      "Create acknowledged: True\n"
     ]
    }
   ],
   "source": [
    "doc = {\n",
    "    \"animal_id\": \"ZZZTEST123\",\n",
    "    \"name\": \"ModuleFourPup\",\n",
    "    \"animal_type\": \"Dog\",\n",
    "    \"breed\": \"Test Breed\",\n",
    "    \"outcome_type\": \"Adoption\",\n",
    "}\n",
    "print(\"Create acknowledged:\", shelter.create(doc))\n"
   ]
  },
  {
   "cell_type": "code",
   "execution_count": 10,
   "id": "5a90e558-ebd5-403d-9808-a4143dc23aef",
   "metadata": {
    "tags": []
   },
   "outputs": [
    {
     "name": "stdout",
     "output_type": "stream",
     "text": [
      "Documents found: 3\n",
      "{'_id': '68df3e37810c2eca97f26018',\n",
      " 'animal_id': 'ZZZTEST123',\n",
      " 'animal_type': 'Dog',\n",
      " 'name': 'ModuleFourPup'}\n",
      "{'_id': '68df405d085fcb7277e8beed',\n",
      " 'animal_id': 'ZZZTEST123',\n",
      " 'animal_type': 'Dog',\n",
      " 'name': 'ModuleFourPup'}\n",
      "{'_id': '68df4066085fcb7277e8beef',\n",
      " 'animal_id': 'ZZZTEST123',\n",
      " 'animal_type': 'Dog',\n",
      " 'name': 'ModuleFourPup'}\n"
     ]
    }
   ],
   "source": [
    "rows = shelter.read({\"animal_id\": \"ZZZTEST123\"})\n",
    "print(f\"Documents found: {len(rows)}\")\n",
    "for d in rows:\n",
    "    pprint({\n",
    "        \"_id\": str(d.get(\"_id\")),\n",
    "        \"animal_id\": d.get(\"animal_id\"),\n",
    "        \"name\": d.get(\"name\"),\n",
    "        \"animal_type\": d.get(\"animal_type\")\n",
    "    })\n"
   ]
  },
  {
   "cell_type": "code",
   "execution_count": null,
   "id": "2f7a96e8-262e-4cbc-9654-d86eca85f235",
   "metadata": {},
   "outputs": [],
   "source": []
  }
 ],
 "metadata": {
  "kernelspec": {
   "display_name": "Python 3 (ipykernel)",
   "language": "python",
   "name": "python3"
  },
  "language_info": {
   "codemirror_mode": {
    "name": "ipython",
    "version": 3
   },
   "file_extension": ".py",
   "mimetype": "text/x-python",
   "name": "python",
   "nbconvert_exporter": "python",
   "pygments_lexer": "ipython3",
   "version": "3.11.2"
  }
 },
 "nbformat": 4,
 "nbformat_minor": 5
}
